{
 "cells": [
  {
   "cell_type": "markdown",
   "id": "selected-drinking",
   "metadata": {},
   "source": [
    "# 1.关于VariTensor"
   ]
  },
  {
   "cell_type": "markdown",
   "id": "intelligent-reservoir",
   "metadata": {},
   "source": [
    "在该版本中，或者说大于0.4的版本中，Variable和Tensor合并了，意味着Tensor可以运行Variable，当然新版中也是可以任然单独运用Variable，但是返回的是Tensor"
   ]
  },
  {
   "cell_type": "code",
   "execution_count": 1,
   "id": "metallic-brush",
   "metadata": {},
   "outputs": [],
   "source": [
    "import torch\n",
    "from torch.autograd import Variable"
   ]
  },
  {
   "cell_type": "code",
   "execution_count": 2,
   "id": "incident-owner",
   "metadata": {},
   "outputs": [
    {
     "data": {
      "text/plain": [
       "'1.1.0'"
      ]
     },
     "execution_count": 2,
     "metadata": {},
     "output_type": "execute_result"
    }
   ],
   "source": [
    "torch.__version__"
   ]
  },
  {
   "cell_type": "code",
   "execution_count": 3,
   "id": "selected-genius",
   "metadata": {},
   "outputs": [
    {
     "data": {
      "text/plain": [
       "tensor([[-9.7165e+34,  5.7453e-43,  1.4013e-45,  0.0000e+00],\n",
       "        [ 0.0000e+00,  0.0000e+00,  0.0000e+00,  0.0000e+00],\n",
       "        [ 0.0000e+00,  0.0000e+00,  0.0000e+00,  0.0000e+00]])"
      ]
     },
     "execution_count": 3,
     "metadata": {},
     "output_type": "execute_result"
    }
   ],
   "source": [
    "x=torch.Tensor(3,4)\n",
    "x"
   ]
  },
  {
   "cell_type": "code",
   "execution_count": 4,
   "id": "greatest-banana",
   "metadata": {},
   "outputs": [
    {
     "data": {
      "text/plain": [
       "torch.Tensor"
      ]
     },
     "execution_count": 4,
     "metadata": {},
     "output_type": "execute_result"
    }
   ],
   "source": [
    "type(x)"
   ]
  },
  {
   "cell_type": "code",
   "execution_count": 5,
   "id": "popular-likelihood",
   "metadata": {},
   "outputs": [
    {
     "data": {
      "text/plain": [
       "False"
      ]
     },
     "execution_count": 5,
     "metadata": {},
     "output_type": "execute_result"
    }
   ],
   "source": [
    "x.requires_grad #默认为False"
   ]
  },
  {
   "cell_type": "code",
   "execution_count": 6,
   "id": "employed-official",
   "metadata": {},
   "outputs": [
    {
     "name": "stdout",
     "output_type": "stream",
     "text": [
      "tensor([[-9.7165e+34,  5.7453e-43,  1.4013e-45,  0.0000e+00],\n",
      "        [ 0.0000e+00,  0.0000e+00,  0.0000e+00,  0.0000e+00],\n",
      "        [ 0.0000e+00,  0.0000e+00,  0.0000e+00,  0.0000e+00]])\n"
     ]
    }
   ],
   "source": [
    "y=Variable(x)\n",
    "print(y)"
   ]
  },
  {
   "cell_type": "code",
   "execution_count": 7,
   "id": "sunrise-specialist",
   "metadata": {},
   "outputs": [
    {
     "data": {
      "text/plain": [
       "torch.Tensor"
      ]
     },
     "execution_count": 7,
     "metadata": {},
     "output_type": "execute_result"
    }
   ],
   "source": [
    "type(y)"
   ]
  },
  {
   "cell_type": "markdown",
   "id": "packed-finland",
   "metadata": {},
   "source": [
    "# 1.1torch.Tensor和torch.tensor有区别"
   ]
  },
  {
   "cell_type": "markdown",
   "id": "textile-chuck",
   "metadata": {},
   "source": [
    "(1)类\n",
    "\n",
    "在pytorch中，torch.Tensor是主要的tensor类，所有的tensor都是torch.Tensor的实例。torch.Tensor是torch.FloatTensor的别名\n",
    "\n",
    "\n",
    "而torch.tensor是一个函数，返回的是一个tensor，在pytorch中，描述如下：\n",
    "    \n",
    "    torch.tensor(data,dtype=None,device=None,requires_grad=False) → Tensor\n",
    "    Construct a tensor with data\n",
    "    \n",
    "    \n",
    "(2)dtype类型\n",
    "\n",
    "所以需要注意的一点是：\n",
    "    \n",
    "    torch.Tensor(data)是将输入的data转化为torch.FloatTensor\n",
    "    torch.tensor(data)将data转化为torch.FloatTensor,torch.LongTensor,torch.DoubleTensor等类型，转化类型依赖于data的类型或者dtype的值\n",
    "    \n",
    "    \n",
    "    \n",
    "(3)创建空tensor\n",
    "\n",
    "使用如下语句：tensor_without_data=torch.Tensor()可以创建一个空的FloatTensor，而当你使用tensor_without_data=torch.tensor()时候则会报错\n",
    "\n",
    "当你想要创建一个空的tensor的时候，可以使用如下方法：\n",
    "\n",
    "    tensor_without_data=torch.Tensor() #tensor([])\n",
    "    tensor_without_data=torch.tensor(()) #tensor([])\n",
    "    tensor_without_data=torch.empty([) #tensor(0.)\n",
    "    \n",
    "    \n",
    "在创建空的tensor时，最好还是使用torch.tensor或者torch.empty"
   ]
  },
  {
   "cell_type": "code",
   "execution_count": 8,
   "id": "compact-ground",
   "metadata": {},
   "outputs": [
    {
     "data": {
      "text/plain": [
       "tensor([[1, 1, 1, 1],\n",
       "        [1, 1, 1, 1],\n",
       "        [1, 1, 1, 1]], dtype=torch.uint8)"
      ]
     },
     "execution_count": 8,
     "metadata": {},
     "output_type": "execute_result"
    }
   ],
   "source": [
    "x==y"
   ]
  },
  {
   "cell_type": "markdown",
   "id": "domestic-washington",
   "metadata": {},
   "source": [
    "# 2.叶子节点"
   ]
  },
  {
   "cell_type": "markdown",
   "id": "limited-house",
   "metadata": {},
   "source": [
    "对于那些不是任何函数的输出，由用户创建的节点称为叶子节点，叶子节点的grad_fn为None"
   ]
  },
  {
   "cell_type": "code",
   "execution_count": 9,
   "id": "tight-death",
   "metadata": {},
   "outputs": [
    {
     "name": "stdout",
     "output_type": "stream",
     "text": [
      "tensor([1., 1., 1.], requires_grad=True) True\n"
     ]
    }
   ],
   "source": [
    "import torch as t\n",
    "a=t.ones(3,requires_grad=True)\n",
    "b=t.rand(3,requires_grad=True)\n",
    "print(a,a.is_leaf)"
   ]
  },
  {
   "cell_type": "code",
   "execution_count": 10,
   "id": "finnish-pontiac",
   "metadata": {},
   "outputs": [
    {
     "name": "stdout",
     "output_type": "stream",
     "text": [
      "tensor([0.0458, 0.0572, 0.9932], requires_grad=True)\n"
     ]
    }
   ],
   "source": [
    "print(b)"
   ]
  },
  {
   "cell_type": "code",
   "execution_count": 11,
   "id": "cross-frame",
   "metadata": {},
   "outputs": [
    {
     "name": "stdout",
     "output_type": "stream",
     "text": [
      "False\n"
     ]
    }
   ],
   "source": [
    "c=a*b\n",
    "print(c.is_leaf)"
   ]
  },
  {
   "cell_type": "code",
   "execution_count": 12,
   "id": "blind-composite",
   "metadata": {},
   "outputs": [
    {
     "name": "stdout",
     "output_type": "stream",
     "text": [
      "None\n",
      "None\n"
     ]
    }
   ],
   "source": [
    "print(a.grad_fn)\n",
    "print(b.grad_fn)"
   ]
  },
  {
   "cell_type": "code",
   "execution_count": 13,
   "id": "worth-guyana",
   "metadata": {},
   "outputs": [
    {
     "name": "stdout",
     "output_type": "stream",
     "text": [
      "<MulBackward0 object at 0x0000019A8E6ED8C8>\n"
     ]
    }
   ],
   "source": [
    "print(c.grad_fn)"
   ]
  },
  {
   "cell_type": "markdown",
   "id": "drawn-habitat",
   "metadata": {},
   "source": [
    "# 3.a为Tensor变量，有很多方法和属性可以用help(a)查看"
   ]
  },
  {
   "cell_type": "code",
   "execution_count": 14,
   "id": "arranged-principal",
   "metadata": {},
   "outputs": [
    {
     "name": "stdout",
     "output_type": "stream",
     "text": [
      "Help on method backward in module torch.tensor:\n",
      "\n",
      "backward(gradient=None, retain_graph=None, create_graph=False) method of torch.Tensor instance\n",
      "    Computes the gradient of current tensor w.r.t. graph leaves.\n",
      "    \n",
      "    The graph is differentiated using the chain rule. If the tensor is\n",
      "    non-scalar (i.e. its data has more than one element) and requires\n",
      "    gradient, the function additionally requires specifying ``gradient``.\n",
      "    It should be a tensor of matching type and location, that contains\n",
      "    the gradient of the differentiated function w.r.t. ``self``.\n",
      "    \n",
      "    This function accumulates gradients in the leaves - you might need to\n",
      "    zero them before calling it.\n",
      "    \n",
      "    Arguments:\n",
      "        gradient (Tensor or None): Gradient w.r.t. the\n",
      "            tensor. If it is a tensor, it will be automatically converted\n",
      "            to a Tensor that does not require grad unless ``create_graph`` is True.\n",
      "            None values can be specified for scalar Tensors or ones that\n",
      "            don't require grad. If a None value would be acceptable then\n",
      "            this argument is optional.\n",
      "        retain_graph (bool, optional): If ``False``, the graph used to compute\n",
      "            the grads will be freed. Note that in nearly all cases setting\n",
      "            this option to True is not needed and often can be worked around\n",
      "            in a much more efficient way. Defaults to the value of\n",
      "            ``create_graph``.\n",
      "        create_graph (bool, optional): If ``True``, graph of the derivative will\n",
      "            be constructed, allowing to compute higher order derivative\n",
      "            products. Defaults to ``False``.\n",
      "\n",
      "None\n"
     ]
    }
   ],
   "source": [
    "print(help(a.backward))"
   ]
  },
  {
   "cell_type": "code",
   "execution_count": 15,
   "id": "unlikely-collect",
   "metadata": {},
   "outputs": [
    {
     "name": "stdout",
     "output_type": "stream",
     "text": [
      "Help on built-in function expand:\n",
      "\n",
      "expand(...) method of torch.Tensor instance\n",
      "    expand(*sizes) -> Tensor\n",
      "    \n",
      "    Returns a new view of the :attr:`self` tensor with singleton dimensions expanded\n",
      "    to a larger size.\n",
      "    \n",
      "    Passing -1 as the size for a dimension means not changing the size of\n",
      "    that dimension.\n",
      "    \n",
      "    Tensor can be also expanded to a larger number of dimensions, and the\n",
      "    new ones will be appended at the front. For the new dimensions, the\n",
      "    size cannot be set to -1.\n",
      "    \n",
      "    Expanding a tensor does not allocate new memory, but only creates a\n",
      "    new view on the existing tensor where a dimension of size one is\n",
      "    expanded to a larger size by setting the ``stride`` to 0. Any dimension\n",
      "    of size 1 can be expanded to an arbitrary value without allocating new\n",
      "    memory.\n",
      "    \n",
      "    Args:\n",
      "        *sizes (torch.Size or int...): the desired expanded size\n",
      "    \n",
      "    .. warning::\n",
      "    \n",
      "        More than one element of an expanded tensor may refer to a single\n",
      "        memory location. As a result, in-place operations (especially ones that\n",
      "        are vectorized) may result in incorrect behavior. If you need to write\n",
      "        to the tensors, please clone them first.\n",
      "    \n",
      "    Example::\n",
      "    \n",
      "        >>> x = torch.tensor([[1], [2], [3]])\n",
      "        >>> x.size()\n",
      "        torch.Size([3, 1])\n",
      "        >>> x.expand(3, 4)\n",
      "        tensor([[ 1,  1,  1,  1],\n",
      "                [ 2,  2,  2,  2],\n",
      "                [ 3,  3,  3,  3]])\n",
      "        >>> x.expand(-1, 4)   # -1 means not changing the size of that dimension\n",
      "        tensor([[ 1,  1,  1,  1],\n",
      "                [ 2,  2,  2,  2],\n",
      "                [ 3,  3,  3,  3]])\n",
      "\n"
     ]
    }
   ],
   "source": [
    "help(a.expand)"
   ]
  },
  {
   "cell_type": "code",
   "execution_count": 16,
   "id": "alpine-hopkins",
   "metadata": {},
   "outputs": [
    {
     "name": "stdout",
     "output_type": "stream",
     "text": [
      "Help on NoneType object:\n",
      "\n",
      "class NoneType(object)\n",
      " |  Methods defined here:\n",
      " |  \n",
      " |  __bool__(self, /)\n",
      " |      self != 0\n",
      " |  \n",
      " |  __repr__(self, /)\n",
      " |      Return repr(self).\n",
      " |  \n",
      " |  ----------------------------------------------------------------------\n",
      " |  Static methods defined here:\n",
      " |  \n",
      " |  __new__(*args, **kwargs) from builtins.type\n",
      " |      Create and return a new object.  See help(type) for accurate signature.\n",
      "\n"
     ]
    }
   ],
   "source": [
    "help(a.grad_fn)"
   ]
  },
  {
   "cell_type": "code",
   "execution_count": 17,
   "id": "historical-balance",
   "metadata": {},
   "outputs": [
    {
     "data": {
      "text/plain": [
       "torch.Size([3, 1])"
      ]
     },
     "execution_count": 17,
     "metadata": {},
     "output_type": "execute_result"
    }
   ],
   "source": [
    "x=t.tensor([[1],[2],[3]])\n",
    "x.size()"
   ]
  },
  {
   "cell_type": "code",
   "execution_count": 18,
   "id": "strong-stranger",
   "metadata": {},
   "outputs": [],
   "source": [
    "y=x.expand(3,4)"
   ]
  },
  {
   "cell_type": "code",
   "execution_count": 19,
   "id": "minor-divorce",
   "metadata": {},
   "outputs": [
    {
     "data": {
      "text/plain": [
       "tensor([[1, 1, 1, 1],\n",
       "        [2, 2, 2, 2],\n",
       "        [3, 3, 3, 3]])"
      ]
     },
     "execution_count": 19,
     "metadata": {},
     "output_type": "execute_result"
    }
   ],
   "source": [
    "y"
   ]
  },
  {
   "cell_type": "code",
   "execution_count": 20,
   "id": "complete-karen",
   "metadata": {},
   "outputs": [
    {
     "data": {
      "text/plain": [
       "torch.Size([3, 4])"
      ]
     },
     "execution_count": 20,
     "metadata": {},
     "output_type": "execute_result"
    }
   ],
   "source": [
    "y.size()"
   ]
  },
  {
   "cell_type": "code",
   "execution_count": 21,
   "id": "minor-executive",
   "metadata": {},
   "outputs": [
    {
     "data": {
      "text/plain": [
       "tensor([[1, 1, 1, 1],\n",
       "        [2, 2, 2, 2],\n",
       "        [3, 3, 3, 3]])"
      ]
     },
     "execution_count": 21,
     "metadata": {},
     "output_type": "execute_result"
    }
   ],
   "source": [
    "z=x.expand(-1,4)  # -1 means not changing the size of that dimension\n",
    "z"
   ]
  },
  {
   "cell_type": "code",
   "execution_count": 22,
   "id": "metric-replica",
   "metadata": {},
   "outputs": [
    {
     "data": {
      "text/plain": [
       "torch.Size([3, 4])"
      ]
     },
     "execution_count": 22,
     "metadata": {},
     "output_type": "execute_result"
    }
   ],
   "source": [
    "z.size()"
   ]
  },
  {
   "cell_type": "code",
   "execution_count": 23,
   "id": "spare-formula",
   "metadata": {},
   "outputs": [
    {
     "data": {
      "text/plain": [
       "tensor([[1, 1, 1, 1],\n",
       "        [1, 1, 1, 1],\n",
       "        [1, 1, 1, 1]], dtype=torch.uint8)"
      ]
     },
     "execution_count": 23,
     "metadata": {},
     "output_type": "execute_result"
    }
   ],
   "source": [
    "y==z"
   ]
  },
  {
   "cell_type": "markdown",
   "id": "willing-playlist",
   "metadata": {},
   "source": [
    "# 4.求导-autograd操作"
   ]
  },
  {
   "cell_type": "markdown",
   "id": "bearing-advertiser",
   "metadata": {},
   "source": [
    "首先，tensor是默认不求导的，即requires_grad默认为False"
   ]
  },
  {
   "cell_type": "code",
   "execution_count": 26,
   "id": "representative-local",
   "metadata": {},
   "outputs": [
    {
     "name": "stdout",
     "output_type": "stream",
     "text": [
      "tensor([1., 1., 1.])\n",
      "False\n",
      "torch.Size([3])\n"
     ]
    }
   ],
   "source": [
    "d=t.ones(3)\n",
    "print(d)\n",
    "print(d.requires_grad)\n",
    "print(d.size())"
   ]
  },
  {
   "cell_type": "markdown",
   "id": "adult-michigan",
   "metadata": {},
   "source": [
    "如果某一个节点requires_grad被设置为TRUE，那么所有依赖于该节点的requires_grad都为TRUE"
   ]
  },
  {
   "cell_type": "code",
   "execution_count": 27,
   "id": "working-numbers",
   "metadata": {},
   "outputs": [
    {
     "name": "stdout",
     "output_type": "stream",
     "text": [
      "True\n",
      "True\n"
     ]
    }
   ],
   "source": [
    "a=t.ones(3)\n",
    "b=t.ones(3,requires_grad=True)\n",
    "print(b.requires_grad)   #输出为True,但是a.requires_grad仍然为False\n",
    "\n",
    "c=a+b\n",
    "print(c.requires_grad)"
   ]
  },
  {
   "cell_type": "markdown",
   "id": "stuffed-interest",
   "metadata": {},
   "source": [
    "并不是只有scalar才能进行backward操作，矩阵和向量也可以，只不过backward()中要添加对应维度的参数\n",
    "* retain_graph=True是为了保存中间缓存，否则再次backward的时候会报错"
   ]
  },
  {
   "cell_type": "code",
   "execution_count": 29,
   "id": "vietnamese-heading",
   "metadata": {},
   "outputs": [
    {
     "name": "stdout",
     "output_type": "stream",
     "text": [
      "1: tensor([1., 1., 1.], requires_grad=True) tensor([0.8953, 0.2066, 0.3325], requires_grad=True)\n",
      "2: tensor([0.8953, 0.2066, 0.3325], grad_fn=<MulBackward0>)\n",
      "4: None\n",
      "5: tensor([0.8953, 0.2066, 0.3325])\n",
      "6: tensor([1., 1., 1.])\n",
      "7: tensor([2., 2., 2.])\n",
      "8: tensor([2., 2., 2.])\n"
     ]
    }
   ],
   "source": [
    "a=t.ones(3,requires_grad=True)\n",
    "b=t.rand(3,requires_grad=True)\n",
    "print(\"1:\",a,b)\n",
    "\n",
    "c=a*b\n",
    "print(\"2:\",c)\n",
    "\n",
    "#print(\"3:\",c.backward(retain_graph=True))\n",
    "#报错，内容为：只有数值scalar才能进行backward操作\n",
    "\n",
    "d=c.sum()\n",
    "print(\"4:\",d.backward(retain_graph=True))\n",
    "\n",
    "print(\"5:\",a.grad)\n",
    "\n",
    "print(\"6:\",b.grad)\n",
    "\n",
    "e=c.sum()\n",
    "e.backward(retain_graph=True)\n",
    "print(\"7:\",b.grad)\n",
    "#b的grad进行了两次backward后进行了累加\n",
    "\n",
    "f=c.sum()\n",
    "print(\"8:\",b.grad)\n",
    "#只进行计算不backward，梯度不更新"
   ]
  },
  {
   "cell_type": "markdown",
   "id": "sixth-marijuana",
   "metadata": {},
   "source": [
    "# 5.Tensor.data和Tensor.detach()"
   ]
  },
  {
   "cell_type": "markdown",
   "id": "considerable-bronze",
   "metadata": {},
   "source": [
    "如果tensor的数值需要参与计算又不想参与到计算图的更新中，计算的时候可以用tensor.data,这样既能利用tensor的数值，又不会更新梯度"
   ]
  },
  {
   "cell_type": "code",
   "execution_count": 30,
   "id": "starting-parcel",
   "metadata": {},
   "outputs": [
    {
     "name": "stdout",
     "output_type": "stream",
     "text": [
      "False True\n",
      "<bound method Tensor.backward of tensor(6.3439)>\n"
     ]
    }
   ],
   "source": [
    "a=t.ones(3,4,requires_grad=True)\n",
    "b=t.rand(3,4,requires_grad=True)\n",
    "\n",
    "print(a.data.requires_grad,a.requires_grad) #因为a.data独立于计算图之外，所以返回False\n",
    "\n",
    "c=a.data*b.data\n",
    "d=c.sum()\n",
    "print(d.backward)\n",
    "#print(d.backward())会报错，因为独立于计算图之外，requires_grad=False，不能backward()\n"
   ]
  },
  {
   "cell_type": "code",
   "execution_count": 31,
   "id": "valued-guess",
   "metadata": {},
   "outputs": [
    {
     "data": {
      "text/plain": [
       "tensor([[1., 1., 1., 1.],\n",
       "        [1., 1., 1., 1.],\n",
       "        [1., 1., 1., 1.]])"
      ]
     },
     "execution_count": 31,
     "metadata": {},
     "output_type": "execute_result"
    }
   ],
   "source": [
    "a.data"
   ]
  },
  {
   "cell_type": "code",
   "execution_count": 32,
   "id": "fifteen-recommendation",
   "metadata": {},
   "outputs": [
    {
     "data": {
      "text/plain": [
       "tensor([[0.5326, 0.9751, 0.4073, 0.1941],\n",
       "        [0.4098, 0.9659, 0.2718, 0.0535],\n",
       "        [0.4222, 0.8378, 0.7652, 0.5085]])"
      ]
     },
     "execution_count": 32,
     "metadata": {},
     "output_type": "execute_result"
    }
   ],
   "source": [
    "b.data"
   ]
  },
  {
   "cell_type": "code",
   "execution_count": 33,
   "id": "minus-moment",
   "metadata": {},
   "outputs": [
    {
     "data": {
      "text/plain": [
       "tensor([[1., 1., 1., 1.],\n",
       "        [1., 1., 1., 1.],\n",
       "        [1., 1., 1., 1.]], requires_grad=True)"
      ]
     },
     "execution_count": 33,
     "metadata": {},
     "output_type": "execute_result"
    }
   ],
   "source": [
    "a"
   ]
  },
  {
   "cell_type": "code",
   "execution_count": 34,
   "id": "derived-people",
   "metadata": {},
   "outputs": [
    {
     "data": {
      "text/plain": [
       "tensor([[0.5326, 0.9751, 0.4073, 0.1941],\n",
       "        [0.4098, 0.9659, 0.2718, 0.0535],\n",
       "        [0.4222, 0.8378, 0.7652, 0.5085]], requires_grad=True)"
      ]
     },
     "execution_count": 34,
     "metadata": {},
     "output_type": "execute_result"
    }
   ],
   "source": [
    "b"
   ]
  },
  {
   "cell_type": "code",
   "execution_count": 35,
   "id": "described-cooking",
   "metadata": {},
   "outputs": [
    {
     "name": "stdout",
     "output_type": "stream",
     "text": [
      "<bound method Tensor.backward of tensor(6.3439, grad_fn=<SumBackward0>)>\n"
     ]
    }
   ],
   "source": [
    "c=a*b\n",
    "d=c.sum()\n",
    "print(d.backward)  #注意这个d中有grad_fn属性"
   ]
  },
  {
   "cell_type": "markdown",
   "id": "consistent-bidder",
   "metadata": {},
   "source": [
    "当tensor.data被修改的时候，tensor也会同步被修改，此时用该tensor进行计算的时候梯度的值就不在准确了，因为tensor已经被修改了"
   ]
  },
  {
   "cell_type": "code",
   "execution_count": 37,
   "id": "swedish-database",
   "metadata": {},
   "outputs": [
    {
     "name": "stdout",
     "output_type": "stream",
     "text": [
      "tensor([[1., 1., 1., 1.],\n",
      "        [1., 1., 1., 1.],\n",
      "        [1., 1., 1., 1.]], requires_grad=True)\n",
      "tensor([[0.7311, 0.7311, 0.7311, 0.7311],\n",
      "        [0.7311, 0.7311, 0.7311, 0.7311],\n",
      "        [0.7311, 0.7311, 0.7311, 0.7311]], requires_grad=True)\n",
      "tensor([[0.7311, 0.7311, 0.7311, 0.7311],\n",
      "        [0.7311, 0.7311, 0.7311, 0.7311],\n",
      "        [0.7311, 0.7311, 0.7311, 0.7311]])\n"
     ]
    }
   ],
   "source": [
    "a=t.ones(3,4,requires_grad=True)\n",
    "b=t.rand(3,4,requires_grad=True)\n",
    "c=a*b\n",
    "d=c.sum()\n",
    "print(a)\n",
    "a_=a.detach()\n",
    "a_.sigmoid_()\n",
    "print(a)\n",
    "print(a_)\n"
   ]
  },
  {
   "cell_type": "code",
   "execution_count": 39,
   "id": "opened-score",
   "metadata": {},
   "outputs": [],
   "source": [
    "# d.backward() 报错，因为a的值被修改了，所以不能再进行backward"
   ]
  },
  {
   "cell_type": "markdown",
   "id": "stuffed-tower",
   "metadata": {},
   "source": [
    "# 6.autograd.grad和hook"
   ]
  },
  {
   "cell_type": "markdown",
   "id": "expensive-driving",
   "metadata": {},
   "source": [
    "在计算的时候我们可能会用到非叶子节点的grad,但是非叶子节点的grad在backward之后就会被自动清空"
   ]
  },
  {
   "cell_type": "code",
   "execution_count": 40,
   "id": "widespread-bulgarian",
   "metadata": {},
   "outputs": [
    {
     "name": "stdout",
     "output_type": "stream",
     "text": [
      "tensor([[0.9307, 0.3436, 0.1300, 0.6054],\n",
      "        [0.1395, 0.3512, 0.5476, 0.6505],\n",
      "        [0.3289, 0.0268, 0.5199, 0.2468]])\n",
      "None\n"
     ]
    }
   ],
   "source": [
    "a=t.ones(3,4,requires_grad=True)\n",
    "b=t.rand(3,4,requires_grad=True)\n",
    "c=a*b\n",
    "d=c.sum()\n",
    "d.backward()\n",
    "print(a.grad)\n",
    "print(c.grad)\n",
    "#c为非叶子节点，计算后被清空"
   ]
  },
  {
   "cell_type": "markdown",
   "id": "funky-overhead",
   "metadata": {},
   "source": [
    "可以用autograd.grad和hook来处理这种情况"
   ]
  },
  {
   "cell_type": "code",
   "execution_count": 41,
   "id": "governmental-provincial",
   "metadata": {},
   "outputs": [
    {
     "data": {
      "text/plain": [
       "(tensor([[1., 1., 1., 1.],\n",
       "         [1., 1., 1., 1.],\n",
       "         [1., 1., 1., 1.]]),)"
      ]
     },
     "execution_count": 41,
     "metadata": {},
     "output_type": "execute_result"
    }
   ],
   "source": [
    "#利用autograd.grad获取中间节点梯度\n",
    "t.autograd.grad(d,c)"
   ]
  },
  {
   "cell_type": "markdown",
   "id": "suspended-crest",
   "metadata": {},
   "source": [
    "利用hook获取中间节点梯度"
   ]
  },
  {
   "cell_type": "markdown",
   "id": "understanding-ancient",
   "metadata": {},
   "source": [
    "按照惯例,所有属性requires_grad=False的张量是叶子节点(即:叶子张量、\n",
    "叶子节点张量).\n",
    "对于属性requires_grad=True的张量可能是叶子节点张量也可能不是叶\n",
    "子节点张量而是中间节点(中间节点张量).  如果该张量的属性requires_grad=True,\n",
    "而且是用于直接创建的,也即它的属性grad_fn=None,那么它就是叶子节点.\n",
    "如果该张量的属性requires_grad=True,但是它不是用户直接创建的,而是由其他张量\n",
    "经过某些运算操作产生的,那么它就不是叶子张量,而是中间节点张量,并且它的属性\n",
    "grad_fn不是None,比如:grad_fn=<MeanBackward0>,这表示该张量是通过torch.mean()\n",
    "运算操作产生的,是中间结果,所以是中间节点张量,所以不是叶子节点张量.\n",
    "判断一个张量是不是叶子节点,可以通过它的属性is_leaf来查看.\n",
    "\n",
    "一个张量的属性requires_grad用来指示在反向传播时,是否需要为这个张量计算梯度.\n",
    "如果这个张量的属性requires_grad=False,那么就不需要为这个张量计算梯度,也就\n",
    "不需要为这个张量进行优化学习.\n",
    "\n",
    "在PyTorch的运算操作中,如果参加这个运算操作的所有输入张量的属性requires_grad都\n",
    "是False的话,那么这个运算操作产生的结果,即输出张量的属性requires_grad也是False,\n",
    "否则是True. 即输入的张量只要有一个需要求梯度(属性requires_grad=True),那么得到的\n",
    "结果张量也是需要求梯度的(属性requires_grad=True).只有当所有的输入张量都不需要求\n",
    "梯度时,得到的结果张量才会不需要求梯度.\n",
    "\n",
    "\n",
    "对于属性requires_grad=True的张量,在反向传播时,会为该张量计算梯度. 但是pytorch的\n",
    "自动梯度机制不会为中间结果保存梯度,即只会为叶子节点计算的梯度保存起来,保存到该\n",
    "叶子节点张量的属性grad中,不会在中间节点张量的属性grad中保存这个张量的梯度,这是\n",
    "出于对效率的考虑,中间节点张量的属性grad是None.如果用户需要为中间节点保存梯度的\n",
    "话,可以让这个中间节点调用方法retain_grad(),这样梯度就会保存在这个中间节点的grad属性中."
   ]
  },
  {
   "cell_type": "code",
   "execution_count": 42,
   "id": "stock-zealand",
   "metadata": {},
   "outputs": [
    {
     "name": "stdout",
     "output_type": "stream",
     "text": [
      "tensor([[1., 1., 1., 1.],\n",
      "        [1., 1., 1., 1.],\n",
      "        [1., 1., 1., 1.]])\n",
      "None\n"
     ]
    }
   ],
   "source": [
    "a=t.ones(3,4,requires_grad=True)\n",
    "b=t.ones(3,4,requires_grad=True)\n",
    "c=a*b\n",
    "d=c.sum()\n",
    "def print_grad(grad):\n",
    "    print(grad)\n",
    "\n",
    "#给C注册hook\n",
    "c_hook=c.register_hook(print_grad)\n",
    "\n",
    "print(d.backward())\n",
    "\n",
    "#移除hook\n",
    "c_hook.remove()"
   ]
  },
  {
   "cell_type": "code",
   "execution_count": 47,
   "id": "thirty-portuguese",
   "metadata": {},
   "outputs": [
    {
     "name": "stdout",
     "output_type": "stream",
     "text": [
      "None\n"
     ]
    }
   ],
   "source": [
    "a=t.ones(3,4,requires_grad=True)\n",
    "b=t.rand(3,4,requires_grad=True)\n",
    "c=b*a\n",
    "d=c.sum()\n",
    "print(d.backward())"
   ]
  },
  {
   "cell_type": "code",
   "execution_count": 48,
   "id": "comparative-cross",
   "metadata": {},
   "outputs": [
    {
     "data": {
      "text/plain": [
       "tensor(5.5680, grad_fn=<SumBackward0>)"
      ]
     },
     "execution_count": 48,
     "metadata": {},
     "output_type": "execute_result"
    }
   ],
   "source": [
    "d"
   ]
  },
  {
   "cell_type": "code",
   "execution_count": 49,
   "id": "activated-referral",
   "metadata": {},
   "outputs": [
    {
     "data": {
      "text/plain": [
       "tensor([[0.0235, 0.5821, 0.6759, 0.4059],\n",
       "        [0.2676, 0.5405, 0.4357, 0.5614],\n",
       "        [0.3701, 0.2910, 0.7306, 0.6837]], grad_fn=<MulBackward0>)"
      ]
     },
     "execution_count": 49,
     "metadata": {},
     "output_type": "execute_result"
    }
   ],
   "source": [
    "c"
   ]
  },
  {
   "cell_type": "markdown",
   "id": "regulated-newman",
   "metadata": {},
   "source": [
    "# 7.损失函数"
   ]
  },
  {
   "cell_type": "code",
   "execution_count": 1,
   "id": "computational-sense",
   "metadata": {},
   "outputs": [
    {
     "name": "stdout",
     "output_type": "stream",
     "text": [
      "Help on package torch.nn in torch:\n",
      "\n",
      "NAME\n",
      "    torch.nn\n",
      "\n",
      "PACKAGE CONTENTS\n",
      "    _VF\n",
      "    _functions (package)\n",
      "    _qscheme\n",
      "    _reduction\n",
      "    backends (package)\n",
      "    cpp\n",
      "    functional\n",
      "    grad\n",
      "    init\n",
      "    modules (package)\n",
      "    parallel (package)\n",
      "    parameter\n",
      "    utils (package)\n",
      "\n",
      "FILE\n",
      "    d:\\miniconda3\\lib\\site-packages\\torch\\nn\\__init__.py\n",
      "\n",
      "\n"
     ]
    }
   ],
   "source": [
    "from torch import nn\n",
    "help(nn)"
   ]
  },
  {
   "cell_type": "code",
   "execution_count": 2,
   "id": "acoustic-collins",
   "metadata": {},
   "outputs": [],
   "source": [
    "import torch\n",
    "import torch.nn as nn\n",
    "import torch.nn.functional as F"
   ]
  },
  {
   "cell_type": "code",
   "execution_count": 3,
   "id": "skilled-hungary",
   "metadata": {},
   "outputs": [],
   "source": [
    "sample=torch.ones(2,2,requires_grad=True)\n",
    "target=torch.Tensor([[0,1],[2,3]])"
   ]
  },
  {
   "cell_type": "code",
   "execution_count": 4,
   "id": "collect-relations",
   "metadata": {},
   "outputs": [
    {
     "data": {
      "text/plain": [
       "(torch.Tensor, torch.Tensor)"
      ]
     },
     "execution_count": 4,
     "metadata": {},
     "output_type": "execute_result"
    }
   ],
   "source": [
    "type(sample),type(target)"
   ]
  },
  {
   "cell_type": "code",
   "execution_count": 5,
   "id": "narrative-rugby",
   "metadata": {},
   "outputs": [
    {
     "data": {
      "text/plain": [
       "tensor([[1., 1.],\n",
       "        [1., 1.]], requires_grad=True)"
      ]
     },
     "execution_count": 5,
     "metadata": {},
     "output_type": "execute_result"
    }
   ],
   "source": [
    "sample"
   ]
  },
  {
   "cell_type": "code",
   "execution_count": 6,
   "id": "swedish-nashville",
   "metadata": {},
   "outputs": [
    {
     "data": {
      "text/plain": [
       "tensor([[0., 1.],\n",
       "        [2., 3.]])"
      ]
     },
     "execution_count": 6,
     "metadata": {},
     "output_type": "execute_result"
    }
   ],
   "source": [
    "target"
   ]
  },
  {
   "cell_type": "code",
   "execution_count": 7,
   "id": "conscious-breed",
   "metadata": {},
   "outputs": [
    {
     "data": {
      "text/plain": [
       "(torch.float32, torch.float32)"
      ]
     },
     "execution_count": 7,
     "metadata": {},
     "output_type": "execute_result"
    }
   ],
   "source": [
    "sample.dtype,target.dtype"
   ]
  },
  {
   "cell_type": "markdown",
   "id": "interior-dialogue",
   "metadata": {},
   "source": [
    "# 7.1 nn.L1Loss"
   ]
  },
  {
   "cell_type": "markdown",
   "id": "artistic-suspension",
   "metadata": {},
   "source": [
    "取预测值和真实值绝对误差的平均数"
   ]
  },
  {
   "cell_type": "code",
   "execution_count": 8,
   "id": "extraordinary-investing",
   "metadata": {},
   "outputs": [
    {
     "name": "stdout",
     "output_type": "stream",
     "text": [
      "tensor(1., grad_fn=<L1LossBackward>)\n"
     ]
    }
   ],
   "source": [
    "criterion=nn.L1Loss()\n",
    "loss=criterion(sample,target)\n",
    "print(loss)"
   ]
  },
  {
   "cell_type": "markdown",
   "id": "collectible-fields",
   "metadata": {},
   "source": [
    "# 7.2 nn.SmoothL1Loss"
   ]
  },
  {
   "cell_type": "markdown",
   "id": "circular-thomas",
   "metadata": {},
   "source": [
    "SmoothL1Loss也叫Huber Loss,误差在(-1,1)是平方损失，其他情况L1损失"
   ]
  },
  {
   "cell_type": "code",
   "execution_count": 9,
   "id": "absolute-fountain",
   "metadata": {},
   "outputs": [
    {
     "data": {
      "text/plain": [
       "tensor(0.6250, grad_fn=<SmoothL1LossBackward>)"
      ]
     },
     "execution_count": 9,
     "metadata": {},
     "output_type": "execute_result"
    }
   ],
   "source": [
    "criterion=nn.SmoothL1Loss()\n",
    "loss=criterion(sample,target)\n",
    "loss"
   ]
  },
  {
   "cell_type": "markdown",
   "id": "graduate-firewall",
   "metadata": {},
   "source": [
    "# 7.3 nn.MSELoss"
   ]
  },
  {
   "cell_type": "markdown",
   "id": "blank-cover",
   "metadata": {},
   "source": [
    "我们最常见的损失函数"
   ]
  },
  {
   "cell_type": "code",
   "execution_count": 10,
   "id": "pleasant-lucas",
   "metadata": {},
   "outputs": [
    {
     "data": {
      "text/plain": [
       "tensor(1.5000, grad_fn=<MseLossBackward>)"
      ]
     },
     "execution_count": 10,
     "metadata": {},
     "output_type": "execute_result"
    }
   ],
   "source": [
    "criterion=nn.MSELoss()\n",
    "loss=criterion(sample,target)\n",
    "loss"
   ]
  },
  {
   "cell_type": "markdown",
   "id": "japanese-gibraltar",
   "metadata": {},
   "source": [
    "# 7.4 nn.BCELoss"
   ]
  },
  {
   "cell_type": "markdown",
   "id": "theoretical-warning",
   "metadata": {},
   "source": [
    "二分类交叉熵损失函数"
   ]
  },
  {
   "cell_type": "code",
   "execution_count": 11,
   "id": "alike-volunteer",
   "metadata": {},
   "outputs": [
    {
     "data": {
      "text/plain": [
       "tensor(-13.8155, grad_fn=<BinaryCrossEntropyBackward>)"
      ]
     },
     "execution_count": 11,
     "metadata": {},
     "output_type": "execute_result"
    }
   ],
   "source": [
    "criterion=nn.BCELoss()\n",
    "loss=criterion(sample,target)\n",
    "loss"
   ]
  },
  {
   "cell_type": "markdown",
   "id": "smoking-volleyball",
   "metadata": {},
   "source": [
    "# 7.5 nn.CrossEntropyLoss"
   ]
  },
  {
   "cell_type": "markdown",
   "id": "missing-warrant",
   "metadata": {},
   "source": [
    "该损失函数结合了nn.LogSoftMax()和nn.NLLLoss()两个函数。它在做分类训练的时候非常有用，在训练过程中，对于每个类分配权值，可选参数权值应该是一个1D张量。当你有一个不平衡的训练集时，这是非常有用的。\n",
    "\n",
    "* pytorch中的交叉熵\n",
    "* softmax后的数值都在0-1之间，所以ln之后的值域是负无穷到0.\n",
    "* 然后将softmax之后的结果取log，将乘法改成加法减少计算量，同时保证函数的单调性。\n",
    "* NLLLoss的结果就是把上面的输出与label对应的那个值拿出来，去掉负号再求平均"
   ]
  },
  {
   "cell_type": "code",
   "execution_count": 13,
   "id": "varying-cornell",
   "metadata": {},
   "outputs": [
    {
     "name": "stdout",
     "output_type": "stream",
     "text": [
      "x_input:\n",
      " tensor([[ 0.1050, -0.1789,  0.1070],\n",
      "        [ 1.0318, -1.3716,  1.1058],\n",
      "        [ 1.3384, -1.5007,  0.2630]])\n",
      "soft_output:\n",
      " tensor([[0.3630, 0.2733, 0.3637],\n",
      "        [0.4614, 0.0417, 0.4969],\n",
      "        [0.7145, 0.0418, 0.2438]])\n",
      "log_output:\n",
      " tensor([[-1.0134, -1.2973, -1.0113],\n",
      "        [-0.7734, -3.1768, -0.6995],\n",
      "        [-0.3362, -3.1753, -1.4116]])\n",
      "logsoftmax_output:\n",
      " tensor([[-1.0134, -1.2973, -1.0113],\n",
      "        [-0.7734, -3.1768, -0.6995],\n",
      "        [-0.3362, -3.1753, -1.4116]])\n",
      "nlloss_output:\n",
      " tensor(0.7776)\n",
      "crossentropyloss_output:\n",
      " tensor(0.7776)\n"
     ]
    }
   ],
   "source": [
    "import torch\n",
    "import torch.nn as nn\n",
    "x_input=torch.randn(3,3) #随机生成\n",
    "print(\"x_input:\\n\",x_input)\n",
    "y_target=torch.tensor([1,2,0]) #设置输出具体值\n",
    "\n",
    "#计算输入softmax，此时可以看到每一行加起来的结果都是1\n",
    "softmax_func=nn.Softmax(dim=1)\n",
    "soft_output=softmax_func(x_input)\n",
    "print(\"soft_output:\\n\",soft_output)\n",
    "\n",
    "#在softmax的基础上取log\n",
    "log_output=torch.log(soft_output)\n",
    "print(\"log_output:\\n\",log_output)\n",
    "\n",
    "#对比softmax与log的结合与nn.LogSoftmaxLoss的输出结果，发现两者是一致的\n",
    "logsoftmax_func=nn.LogSoftmax(dim=1)\n",
    "logsoftmax_output=logsoftmax_func(x_input)\n",
    "print(\"logsoftmax_output:\\n\",logsoftmax_output)\n",
    "\n",
    "#pytorch中关于NLLLoss的默认参数配置为：reducetion=True, size_average=True\n",
    "nllloss_func=nn.NLLLoss()\n",
    "nlloss_output=nllloss_func(logsoftmax_output,y_target)\n",
    "print(\"nlloss_output:\\n\",nlloss_output)\n",
    "\n",
    "#直接使用pytorch中的loss_func=nn.CrossEntropyLoss()看与经过NLLLoss的计算是不是一样\n",
    "crossentropyloss=nn.CrossEntropyLoss()\n",
    "crossentropyloss_output=crossentropyloss(x_input,y_target)\n",
    "print(\"crossentropyloss_output:\\n\",crossentropyloss_output)"
   ]
  },
  {
   "cell_type": "markdown",
   "id": "middle-belief",
   "metadata": {},
   "source": [
    "# 8.优化器 Optim"
   ]
  },
  {
   "cell_type": "markdown",
   "id": "competent-teddy",
   "metadata": {},
   "source": [
    "优化器通俗来说就是一种计算导数的算法\n",
    "\n",
    "各种优化器的目的和创造它们的初衷其实就是能够让用户选择一种适合自己场景的优化器。优化器最主要的衡量指标就是优化曲线的平稳度，最好的优化器就是每一轮样本数据的优化都让权重参数匀速的接近目标值，而不是忽上忽下的波动\n",
    "\n",
    "因此，损失值的平稳下降对于一个深度学习模型来说是一个非常重要的衡量指标。\n",
    "\n",
    "pytorch的优化器都位于torch.optim类中。常见的有：\n",
    "\n",
    "    * SGD\n",
    "    * Adam\n",
    "    * Adadelta\n",
    "    * Adagrad\n",
    "    * Adamax等\n",
    "\n",
    "pytorch还提供了定制优化器的接口"
   ]
  },
  {
   "cell_type": "code",
   "execution_count": 14,
   "id": "equal-moscow",
   "metadata": {},
   "outputs": [],
   "source": [
    "import torch.optim as optim\n",
    "# optimizer=optim.SGD(model.params(),lr=0.1,momentum=0.9)"
   ]
  },
  {
   "cell_type": "markdown",
   "id": "personalized-cookie",
   "metadata": {},
   "source": [
    "# 8.2 RMSprop"
   ]
  },
  {
   "cell_type": "markdown",
   "id": "entitled-address",
   "metadata": {},
   "source": [
    "RMSprop通过引入一个衰减系数，让r每回合都衰减一定的比例，类似与Momentum中的做法。该优化器通常是面对递归神经网络时的一个良好选择。\n",
    "\n"
   ]
  },
  {
   "cell_type": "code",
   "execution_count": 25,
   "id": "incorrect-spectacular",
   "metadata": {},
   "outputs": [],
   "source": [
    "#自定义实现RMSprop\n",
    "def Rmsprop(parameters,sqrs,lr,alpha):\n",
    "    '''\n",
    "    alpha:平滑系数\n",
    "    eps: 数值稳定性系数，加在分母上\n",
    "    '''\n",
    "    eps=1e-10\n",
    "    for param,sqr in zip(parameters,sqrs):\n",
    "        sqr[:]=alpha*sqr+(1-alpha)*param.grad.data**2\n",
    "        div=lr/torch.sqrt(sqr+eps)*param.grad.data\n",
    "        param.data=param.data-div"
   ]
  },
  {
   "cell_type": "markdown",
   "id": "incident-blanket",
   "metadata": {},
   "source": [
    "实战"
   ]
  },
  {
   "cell_type": "code",
   "execution_count": 16,
   "id": "south-confirmation",
   "metadata": {},
   "outputs": [],
   "source": [
    "import numpy as np\n",
    "import torch \n",
    "from torchvision.datasets import MNIST\n",
    "from torch.utils.data import DataLoader\n",
    "from torch import nn\n",
    "import time \n",
    "import matplotlib.pyplot as plt\n",
    "%matplotlib inline"
   ]
  },
  {
   "cell_type": "code",
   "execution_count": 17,
   "id": "historical-litigation",
   "metadata": {},
   "outputs": [],
   "source": [
    "def data_tf(x):\n",
    "    x=np.array(x,dtype=\"float32\")/255\n",
    "    x=(x-0.5)/0.5 #标准化\n",
    "    x=x.reshape((-1,))\n",
    "    x=torch.from_numpy(x)\n",
    "    return x\n",
    "\n",
    "train_set=MNIST(\"data\",train=True,transform=data_tf,download=True)   #载入数据集，申明定义的数据变换\n",
    "test_set=MNIST(\"data\",train=False,transform=data_tf,download=True) \n",
    "\n",
    "#定义loss函数\n",
    "criterion=nn.CrossEntropyLoss()"
   ]
  },
  {
   "cell_type": "code",
   "execution_count": 18,
   "id": "forty-assurance",
   "metadata": {},
   "outputs": [],
   "source": [
    "#数据加载器，结合了数据集和取样器，并且可以提供多个线程处理数据集\n",
    "#在训练模型时使用到此函数，用来把训练数据分成多个小组，此函数每次抛出一组数据。直至把所有的数据都抛出\n",
    "train_data=DataLoader(train_set,batch_size=64,shuffle=True)"
   ]
  },
  {
   "cell_type": "code",
   "execution_count": 19,
   "id": "powered-audit",
   "metadata": {},
   "outputs": [
    {
     "name": "stdout",
     "output_type": "stream",
     "text": [
      "torch.Size([64, 784]) torch.Size([64])\n",
      "torch.Size([784])\n"
     ]
    }
   ],
   "source": [
    "for im,data in train_data:\n",
    "    print(im.shape,data.shape)\n",
    "    print(im[0][:].shape)\n",
    "    break"
   ]
  },
  {
   "cell_type": "code",
   "execution_count": 21,
   "id": "familiar-update",
   "metadata": {},
   "outputs": [],
   "source": [
    "#使用Sequential 定义3层神经网络\n",
    "net=nn.Sequential(\n",
    "    nn.Linear(784,200),\n",
    "    nn.ReLU(),\n",
    "    nn.Linear(200,10)\n",
    ")"
   ]
  },
  {
   "cell_type": "code",
   "execution_count": 22,
   "id": "forward-reproduction",
   "metadata": {},
   "outputs": [],
   "source": [
    "#初始化梯度平方项\n",
    "sqrs=[]\n",
    "for param in net.parameters():\n",
    "    sqrs.append(torch.zeros_like(param.data))"
   ]
  },
  {
   "cell_type": "code",
   "execution_count": 26,
   "id": "actual-salvation",
   "metadata": {},
   "outputs": [
    {
     "name": "stdout",
     "output_type": "stream",
     "text": [
      "epoch:0,Train Loss:0.371302\n",
      "epoch:1,Train Loss:0.168505\n",
      "epoch:2,Train Loss:0.124179\n",
      "epoch:3,Train Loss:0.102359\n",
      "epoch:4,Train Loss:0.088422\n",
      "使用时间:39.66629s\n"
     ]
    }
   ],
   "source": [
    "#开始训练\n",
    "losses=[]\n",
    "idx=0\n",
    "start=time.time() #计时开始\n",
    "for e in range(5):\n",
    "    train_loss=0\n",
    "    for im,label in train_data:\n",
    "        #前向传播\n",
    "        out=net(im)\n",
    "        loss=criterion(out,label)\n",
    "        #反向传播\n",
    "        net.zero_grad()\n",
    "        loss.backward()\n",
    "        Rmsprop(net.parameters(),sqrs,1e-3,0.9)\n",
    "        #记录误差\n",
    "        train_loss+=loss.item()\n",
    "        if idx % 30==0:\n",
    "            losses.append(loss.item())\n",
    "        idx+=1\n",
    "    print(\"epoch:{},Train Loss:{:.6f}\".format(e,train_loss/len(train_data))) #len(train_data)为总batch数=938\n",
    "end=time.time()\n",
    "print(\"使用时间:{:.5f}s\".format(end-start))"
   ]
  },
  {
   "cell_type": "code",
   "execution_count": 27,
   "id": "raised-theology",
   "metadata": {},
   "outputs": [
    {
     "data": {
      "image/png": "[encoded data removed]",
      "text/plain": [
       "<Figure size 864x432 with 1 Axes>"
      ]
     },
     "metadata": {
      "needs_background": "light"
     },
     "output_type": "display_data"
    }
   ],
   "source": [
    "x_axis=np.linspace(0,5,len(losses),endpoint=True)\n",
    "plt.figure(figsize=[12,6])\n",
    "plt.semilogy(x_axis,losses,label=\"alpha=0.9\") #y轴的刻度的那种变化用这个\n",
    "plt.legend(loc=\"best\")\n",
    "plt.show()"
   ]
  },
  {
   "cell_type": "markdown",
   "id": "frozen-highway",
   "metadata": {},
   "source": [
    "改变alpha的值，查看loss在下降过程中的震荡程度"
   ]
  },
  {
   "cell_type": "code",
   "execution_count": 28,
   "id": "stopped-official",
   "metadata": {},
   "outputs": [
    {
     "name": "stdout",
     "output_type": "stream",
     "text": [
      "epoch:0,Train Loss:0.455181\n",
      "epoch:1,Train Loss:0.169873\n",
      "epoch:2,Train Loss:0.131455\n",
      "epoch:3,Train Loss:0.109435\n",
      "epoch:4,Train Loss:0.093445\n",
      "使用时间：40.27390s\n"
     ]
    }
   ],
   "source": [
    "train_data=DataLoader(train_set,batch_size=64,shuffle=True)\n",
    "net=nn.Sequential(nn.Linear(784,200),\n",
    "                 nn.ReLU(),\n",
    "                 nn.Linear(200,10))\n",
    "sqrs=[]\n",
    "for param in net.parameters():\n",
    "    sqrs.append(torch.zeros_like(param.data))\n",
    "    \n",
    "losses=[]\n",
    "idx=0\n",
    "\n",
    "start=time.time() #计时开始\n",
    "for e in range(5):\n",
    "    train_loss=0\n",
    "    for im,label in train_data:\n",
    "        out=net(im)\n",
    "        loss=criterion(out,label)\n",
    "        net.zero_grad()\n",
    "        loss.backward()\n",
    "        Rmsprop(net.parameters(),sqrs,1e-3,0.999)\n",
    "        train_loss+=loss.item()\n",
    "        if idx % 30==0:\n",
    "            losses.append(loss.item())\n",
    "        idx+=1\n",
    "        \n",
    "    print(\"epoch:{},Train Loss:{:.6f}\".format(e,train_loss/len(train_data)))\n",
    "    \n",
    "end=time.time()\n",
    "print(\"使用时间：{:.5f}s\".format(end-start))"
   ]
  },
  {
   "cell_type": "code",
   "execution_count": 29,
   "id": "closed-pittsburgh",
   "metadata": {},
   "outputs": [
    {
     "data": {
      "image/png": "[encoded data removed]",
      "text/plain": [
       "<Figure size 864x432 with 1 Axes>"
      ]
     },
     "metadata": {
      "needs_background": "light"
     },
     "output_type": "display_data"
    }
   ],
   "source": [
    "x_axis=np.linspace(0,5,len(losses),endpoint=True)\n",
    "plt.figure(figsize=[12,6])\n",
    "plt.semilogy(x_axis,losses,label=\"alpha=0.999\")\n",
    "plt.legend()\n",
    "plt.show()"
   ]
  },
  {
   "cell_type": "markdown",
   "id": "brave-dispatch",
   "metadata": {},
   "source": [
    "使用pytorch内置的rmsprop的方法，非常简单，只需要调用torch.optim.RMSprop()就可以了"
   ]
  },
  {
   "cell_type": "code",
   "execution_count": 30,
   "id": "major-ambassador",
   "metadata": {},
   "outputs": [
    {
     "name": "stdout",
     "output_type": "stream",
     "text": [
      "epoch:0,Train Loss:0.384392\n",
      "epoch:1,Train Loss:0.173684\n",
      "epoch:2,Train Loss:0.127147\n",
      "epoch:3,Train Loss:0.103855\n",
      "epoch:4,Train Loss:0.091037\n",
      "使用时间：42.29739s\n"
     ]
    }
   ],
   "source": [
    "train_data=DataLoader(train_set,batch_size=64,shuffle=True)\n",
    "net=nn.Sequential(nn.Linear(784,200),\n",
    "                 nn.ReLU(),\n",
    "                 nn.Linear(200,10))\n",
    "optimizer=torch.optim.RMSprop(net.parameters(),lr=1e-3,alpha=0.9)\n",
    "\n",
    "start=time.time() #计时开始\n",
    "for e in range(5):\n",
    "    train_loss=0\n",
    "    for im,label in train_data:\n",
    "        out=net(im)\n",
    "        loss=criterion(out,label)\n",
    "        optimizer.zero_grad()\n",
    "        loss.backward()\n",
    "        optimizer.step()\n",
    "        train_loss+=loss.item()\n",
    "        \n",
    "    print(\"epoch:{},Train Loss:{:.6f}\".format(e,train_loss/len(train_data)))\n",
    "    \n",
    "end=time.time()\n",
    "print(\"使用时间：{:.5f}s\".format(end-start))"
   ]
  },
  {
   "cell_type": "code",
   "execution_count": null,
   "id": "operating-fourth",
   "metadata": {},
   "outputs": [],
   "source": []
  }
 ],
 "metadata": {
  "kernelspec": {
   "display_name": "Python 3",
   "language": "python",
   "name": "python3"
  },
  "language_info": {
   "codemirror_mode": {
    "name": "ipython",
    "version": 3
   },
   "file_extension": ".py",
   "mimetype": "text/x-python",
   "name": "python",
   "nbconvert_exporter": "python",
   "pygments_lexer": "ipython3",
   "version": "3.7.6"
  }
 },
 "nbformat": 4,
 "nbformat_minor": 5
}
